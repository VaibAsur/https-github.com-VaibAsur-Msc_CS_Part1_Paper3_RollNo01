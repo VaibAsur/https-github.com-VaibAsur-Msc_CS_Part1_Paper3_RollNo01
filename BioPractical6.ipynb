{
 "cells": [
  {
   "cell_type": "code",
   "execution_count": null,
   "metadata": {},
   "outputs": [
    {
     "name": "stdout",
     "output_type": "stream",
     "text": [
      "Enter the length of motif4\n",
      "Sequence AGAAGTTCGAGAAGCCGTAGT\n",
      "Size of the sequence 21\n",
      "Position 9\n",
      "Motif AGAA\n"
     ]
    }
   ],
   "source": [
    "import random\n",
    "l=int(input(\"Enter the length of motif\"))\n",
    "file=open(\"Documents\\mot.txt\",\"r\")\n",
    "r=file.read()\n",
    "print(\"Sequence\",r)\n",
    "size=len(r)\n",
    "print(\"Size of the sequence\",size)\n",
    "pos=random.randint(0,len(r)-5)\n",
    "#pos=1\n",
    "print(\"Position\",pos)\n",
    "motif=r[pos:pos+l]\n",
    "print(\"Motif\",motif)\n",
    "i=pos+1\n",
    "while(i<=size-1):\n",
    "    if(motif==r[i:i+1]):\n",
    "        str1=r[i:i+1]\n",
    "print(\"Match motif\",str1)\n",
    "file1=open(\"motoutput.txt\",\"a\")\n",
    "file1.write(str1+\" \")\n",
    "i+=1\n"
   ]
  },
  {
   "cell_type": "code",
   "execution_count": null,
   "metadata": {},
   "outputs": [],
   "source": []
  }
 ],
 "metadata": {
  "kernelspec": {
   "display_name": "Python 3",
   "language": "python",
   "name": "python3"
  },
  "language_info": {
   "codemirror_mode": {
    "name": "ipython",
    "version": 3
   },
   "file_extension": ".py",
   "mimetype": "text/x-python",
   "name": "python",
   "nbconvert_exporter": "python",
   "pygments_lexer": "ipython3",
   "version": "3.7.0"
  }
 },
 "nbformat": 4,
 "nbformat_minor": 2
}
